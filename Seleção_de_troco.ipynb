{
  "nbformat": 4,
  "nbformat_minor": 0,
  "metadata": {
    "colab": {
      "name": "Copy of Seleção de troco.ipynb",
      "provenance": []
    },
    "kernelspec": {
      "name": "python3",
      "display_name": "Python 3"
    }
  },
  "cells": [
    {
      "cell_type": "markdown",
      "metadata": {
        "id": "umetVcdkX4pz"
      },
      "source": [
        "## Selecionador de troco com o menor número de moedas na carteira"
      ]
    },
    {
      "cell_type": "code",
      "metadata": {
        "id": "pr_KWZW0-z25",
        "outputId": "82c3a3c8-3279-44e2-b179-1dcbb6987826",
        "colab": {
          "base_uri": "https://localhost:8080/"
        }
      },
      "source": [
        "carteira = []\n",
        "print(\"Para que eu possa selecionar o troco pra você, digite as moedas que possui.\")\n",
        "while True:\n",
        "  moeda = int(input('Qual o valor da moeda em centavos? '))\n",
        "  if moeda == 0:\n",
        "    break\n",
        "  else:\n",
        "    quantidade = int(input(f\"Quantas moedas de {moeda}¢ você possui? \"))\n",
        "    print(\"Possui mais moedas? Digite >> 0 << quando terminar.\")\n",
        "    carteira.append((moeda,quantidade))\n",
        "carteira.sort(key=lambda x: x[0], reverse=True)\n",
        "total_carteira = int()\n",
        "for x in range(len(carteira)):\n",
        "  total_carteira += carteira[x][0]*carteira[x][1]\n",
        "print(f\"Suas moedas: {carteira}\")\n",
        "print(f\"Valor total20: {total_carteira}¢\")\n"
      ],
      "execution_count": null,
      "outputs": [
        {
          "output_type": "stream",
          "text": [
            "Para que eu possa selecionar o troco pra você, digite as moedas que possui.\n",
            "Qual o valor da moeda em centavos? 50\n",
            "Quantas moedas de 50¢ você possui? 3\n",
            "Possui mais moedas? Digite >> 0 << quando terminar.\n",
            "Qual o valor da moeda em centavos? 20\n",
            "Quantas moedas de 20¢ você possui? 36\n",
            "Possui mais moedas? Digite >> 0 << quando terminar.\n"
          ],
          "name": "stdout"
        }
      ]
    },
    {
      "cell_type": "code",
      "metadata": {
        "id": "36tm2ruV_of0",
        "outputId": "f1ccd4aa-e3b4-4fb1-9ad0-2134f4fa5ff0",
        "colab": {
          "base_uri": "https://localhost:8080/",
          "height": 73
        }
      },
      "source": [
        "## Seleção do Troco\n",
        "valor_do_troco = int(input('Quanto de troco precisa dar em centavos? '))\n",
        "troco = []\n",
        "i_valor = int(0) #iterável para mudança do valor da moeda\n",
        "i_quantidade = 1 #iterável para validação da quantidade de moedas\n",
        "valor_desejado = valor_do_troco\n",
        "\n",
        "\n",
        "\n",
        "while carteira[n_valor][0] > valor_do_troco and n_valor < len(carteira) -1:\n",
        "  n_valor += 1\n",
        "  while carteira[n_valor][0] <= valor_do_troco and carteira[n_valor][1] >= n_quantidade:\n",
        "    troco.append((carteira[n_valor][0],1))\n",
        "    valor_do_troco -= carteira[n_valor][0]\n",
        "    if valor_do_troco == 0:\n",
        "      break\n",
        "    elif carteira[n_valor][0] <= valor_do_troco and carteira[n_valor][1] >= n_quantidade:\n",
        "      n_quantidade += 1\n",
        "    elif carteira[n_valor][0] > valor_do_troco and n_valor < len(carteira) -1:\n",
        "        n_valor += 1\n",
        "        n_quantidade = 1\n",
        "    else:\n",
        "      break\n",
        "## Exibição do troco escolhido\n",
        "total_troco = 0\n",
        "for x in range(len(troco)):\n",
        "  total_troco += troco[x][0]\n",
        "\n",
        "if total_troco == valor_desejado:\n",
        "  print(f\"O troco de {total_troco}¢ já está certinho e com o mínimo de moedas possível!\")\n",
        "  print(f\"Entregue as moedas: {troco}\")\n",
        "elif total < valor_desejado:\n",
        "  print(f\"Entregue as moedas: {troco}...\")\n",
        "  print(f\"ainda assim ficou faltando {abs(valor_desejado-total_troco)}¢ para conseguir dar o valor certinho de troco, talvez tenha que dar um pouco a mais, ou a menos dessa vez...\")\n",
        "\n"
      ],
      "execution_count": null,
      "outputs": [
        {
          "output_type": "stream",
          "text": [
            "Quanto de troco precisa dar em centavos? 20\n",
            "O troco de 20¢ já está certinho e com o mínimo de moedas possível!\n",
            "Entregue as moedas: [(10, 1), (10, 1)]\n"
          ],
          "name": "stdout"
        }
      ]
    },
    {
      "cell_type": "code",
      "metadata": {
        "id": "7k9yGpGeFo4I",
        "outputId": "54b58cb0-9e37-482e-bf24-8dbdeda4aef9",
        "colab": {
          "base_uri": "https://localhost:8080/",
          "height": 55
        }
      },
      "source": [
        ""
      ],
      "execution_count": null,
      "outputs": [
        {
          "output_type": "stream",
          "text": [
            "O troco de 20¢ já está certinho e com o mínimo de moedas possível!\n",
            "Entregue as moedas: [(10, 1), (10, 1)]\n"
          ],
          "name": "stdout"
        }
      ]
    },
    {
      "cell_type": "code",
      "metadata": {
        "id": "o2XQzvbMWKsf"
      },
      "source": [
        ""
      ],
      "execution_count": null,
      "outputs": []
    }
  ]
}